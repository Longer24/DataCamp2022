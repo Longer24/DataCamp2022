{
 "cells": [
  {
   "cell_type": "code",
   "execution_count": 1,
   "id": "f48dfc79",
   "metadata": {},
   "outputs": [],
   "source": [
    "import numpy as np\n",
    "from collections import Counter"
   ]
  },
  {
   "cell_type": "code",
   "execution_count": 2,
   "id": "a300e972",
   "metadata": {},
   "outputs": [],
   "source": [
    "# Create an array with numbers and their sums/products\n",
    "general_array = np.array([(x,y,x+y,x*y) for x in range(2,100) for y in range(x,100)])\n"
   ]
  },
  {
   "cell_type": "code",
   "execution_count": 3,
   "id": "9da34be2",
   "metadata": {},
   "outputs": [],
   "source": [
    "# Apply the first condition\n",
    "repeated_numbers = np.array([k for k,v in Counter([x[3] for x in general_array]).items() if v>1])\n",
    "rep_array = np.array([k for k in general_array if k[3] in repeated_numbers])"
   ]
  },
  {
   "cell_type": "code",
   "execution_count": 4,
   "id": "826a30eb",
   "metadata": {},
   "outputs": [],
   "source": [
    "# Second condition\n",
    "sum_array = []\n",
    "for i in rep_array:\n",
    "    sum = i[2]\n",
    "    same_sum_pairs = np.array([v[3] for v in general_array if v[2] == sum])\n",
    "    if all(x in repeated_numbers for x in same_sum_pairs):\n",
    "        sum_array.append(i)"
   ]
  },
  {
   "cell_type": "code",
   "execution_count": 5,
   "id": "ee7c3604",
   "metadata": {},
   "outputs": [],
   "source": [
    "# Third condition\n",
    "uniqe_numbers = np.array([k for k,v in Counter([x[3] for x in sum_array]).items() if v==1])\n",
    "uniqe_num_array = np.array([k for k in sum_array if k[3] in uniqe_numbers])"
   ]
  },
  {
   "cell_type": "code",
   "execution_count": 6,
   "id": "37a11215",
   "metadata": {},
   "outputs": [],
   "source": [
    "# Four condition\n",
    "uniqe_sums = np.array([k for k,v in Counter([x[2] for x in uniqe_num_array]).items() if v==1])\n",
    "problem_solution = np.array([(k[0],k[1]) for k in uniqe_num_array if k[2] in uniqe_sums])"
   ]
  },
  {
   "cell_type": "code",
   "execution_count": 7,
   "id": "261a19e6",
   "metadata": {},
   "outputs": [
    {
     "name": "stdout",
     "output_type": "stream",
     "text": [
      "The numbers we are looking for are 4 and 13\n"
     ]
    }
   ],
   "source": [
    "print('The numbers we are looking for are {} and {}'.format(problem_solution[0,0],problem_solution[0,1]))"
   ]
  },
  {
   "cell_type": "code",
   "execution_count": null,
   "id": "9ea15199",
   "metadata": {},
   "outputs": [],
   "source": []
  }
 ],
 "metadata": {
  "kernelspec": {
   "display_name": "Python 3 (ipykernel)",
   "language": "python",
   "name": "python3"
  },
  "language_info": {
   "codemirror_mode": {
    "name": "ipython",
    "version": 3
   },
   "file_extension": ".py",
   "mimetype": "text/x-python",
   "name": "python",
   "nbconvert_exporter": "python",
   "pygments_lexer": "ipython3",
   "version": "3.10.5"
  }
 },
 "nbformat": 4,
 "nbformat_minor": 5
}
