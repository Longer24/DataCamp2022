{
 "cells": [
  {
   "cell_type": "markdown",
   "id": "7af727f6",
   "metadata": {},
   "source": [
    "# NumPy Task 1"
   ]
  },
  {
   "cell_type": "markdown",
   "id": "8f6c06b4",
   "metadata": {},
   "source": [
    "### Import packages"
   ]
  },
  {
   "cell_type": "code",
   "execution_count": 1,
   "id": "ed71a1f1",
   "metadata": {},
   "outputs": [],
   "source": [
    "import numpy as np"
   ]
  },
  {
   "cell_type": "markdown",
   "id": "af46f19e",
   "metadata": {},
   "source": [
    "### Number of dots"
   ]
  },
  {
   "cell_type": "code",
   "execution_count": 2,
   "id": "b20d182e",
   "metadata": {},
   "outputs": [],
   "source": [
    "ndots = 100000"
   ]
  },
  {
   "cell_type": "markdown",
   "id": "411add3f",
   "metadata": {},
   "source": [
    "### Counter of dots in a circle"
   ]
  },
  {
   "cell_type": "code",
   "execution_count": 3,
   "id": "5de501e5",
   "metadata": {},
   "outputs": [],
   "source": [
    "circle = 0"
   ]
  },
  {
   "cell_type": "markdown",
   "id": "751be6d3",
   "metadata": {},
   "source": [
    "### Iteration and result display"
   ]
  },
  {
   "cell_type": "code",
   "execution_count": 4,
   "id": "c1944b26",
   "metadata": {},
   "outputs": [
    {
     "name": "stdout",
     "output_type": "stream",
     "text": [
      "3.13768\n"
     ]
    }
   ],
   "source": [
    "for i in range(ndots):\n",
    "    # random number generation\n",
    "    x = np.random.uniform(-1, 1)\n",
    "    y = np.random.uniform(-1, 1)\n",
    "    if x * x + y * y <= 1:\n",
    "        circle += 1\n",
    "\n",
    "print(4.0 * circle / ndots)\n",
    "circle = 0"
   ]
  }
 ],
 "metadata": {
  "kernelspec": {
   "display_name": "Python 3 (ipykernel)",
   "language": "python",
   "name": "python3"
  },
  "language_info": {
   "codemirror_mode": {
    "name": "ipython",
    "version": 3
   },
   "file_extension": ".py",
   "mimetype": "text/x-python",
   "name": "python",
   "nbconvert_exporter": "python",
   "pygments_lexer": "ipython3",
   "version": "3.10.5"
  }
 },
 "nbformat": 4,
 "nbformat_minor": 5
}
