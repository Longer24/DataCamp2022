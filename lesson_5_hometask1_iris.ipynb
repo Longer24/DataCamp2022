{
 "cells": [
  {
   "cell_type": "markdown",
   "id": "d58cad20",
   "metadata": {},
   "source": [
    "## Home task : KNN_iris_dataset"
   ]
  },
  {
   "cell_type": "code",
   "execution_count": 1,
   "id": "46588ae8",
   "metadata": {},
   "outputs": [
    {
     "data": {
      "text/html": [
       "<div>\n",
       "<style scoped>\n",
       "    .dataframe tbody tr th:only-of-type {\n",
       "        vertical-align: middle;\n",
       "    }\n",
       "\n",
       "    .dataframe tbody tr th {\n",
       "        vertical-align: top;\n",
       "    }\n",
       "\n",
       "    .dataframe thead th {\n",
       "        text-align: right;\n",
       "    }\n",
       "</style>\n",
       "<table border=\"1\" class=\"dataframe\">\n",
       "  <thead>\n",
       "    <tr style=\"text-align: right;\">\n",
       "      <th></th>\n",
       "      <th>sepal length (cm)</th>\n",
       "      <th>sepal width (cm)</th>\n",
       "      <th>petal length (cm)</th>\n",
       "      <th>petal width (cm)</th>\n",
       "      <th>target</th>\n",
       "    </tr>\n",
       "  </thead>\n",
       "  <tbody>\n",
       "    <tr>\n",
       "      <th>count</th>\n",
       "      <td>150.000000</td>\n",
       "      <td>150.000000</td>\n",
       "      <td>150.000000</td>\n",
       "      <td>150.000000</td>\n",
       "      <td>150.000000</td>\n",
       "    </tr>\n",
       "    <tr>\n",
       "      <th>mean</th>\n",
       "      <td>5.843333</td>\n",
       "      <td>3.057333</td>\n",
       "      <td>3.758000</td>\n",
       "      <td>1.199333</td>\n",
       "      <td>1.000000</td>\n",
       "    </tr>\n",
       "    <tr>\n",
       "      <th>std</th>\n",
       "      <td>0.828066</td>\n",
       "      <td>0.435866</td>\n",
       "      <td>1.765298</td>\n",
       "      <td>0.762238</td>\n",
       "      <td>0.819232</td>\n",
       "    </tr>\n",
       "    <tr>\n",
       "      <th>min</th>\n",
       "      <td>4.300000</td>\n",
       "      <td>2.000000</td>\n",
       "      <td>1.000000</td>\n",
       "      <td>0.100000</td>\n",
       "      <td>0.000000</td>\n",
       "    </tr>\n",
       "    <tr>\n",
       "      <th>25%</th>\n",
       "      <td>5.100000</td>\n",
       "      <td>2.800000</td>\n",
       "      <td>1.600000</td>\n",
       "      <td>0.300000</td>\n",
       "      <td>0.000000</td>\n",
       "    </tr>\n",
       "    <tr>\n",
       "      <th>50%</th>\n",
       "      <td>5.800000</td>\n",
       "      <td>3.000000</td>\n",
       "      <td>4.350000</td>\n",
       "      <td>1.300000</td>\n",
       "      <td>1.000000</td>\n",
       "    </tr>\n",
       "    <tr>\n",
       "      <th>75%</th>\n",
       "      <td>6.400000</td>\n",
       "      <td>3.300000</td>\n",
       "      <td>5.100000</td>\n",
       "      <td>1.800000</td>\n",
       "      <td>2.000000</td>\n",
       "    </tr>\n",
       "    <tr>\n",
       "      <th>max</th>\n",
       "      <td>7.900000</td>\n",
       "      <td>4.400000</td>\n",
       "      <td>6.900000</td>\n",
       "      <td>2.500000</td>\n",
       "      <td>2.000000</td>\n",
       "    </tr>\n",
       "  </tbody>\n",
       "</table>\n",
       "</div>"
      ],
      "text/plain": [
       "       sepal length (cm)  sepal width (cm)  petal length (cm)  \\\n",
       "count         150.000000        150.000000         150.000000   \n",
       "mean            5.843333          3.057333           3.758000   \n",
       "std             0.828066          0.435866           1.765298   \n",
       "min             4.300000          2.000000           1.000000   \n",
       "25%             5.100000          2.800000           1.600000   \n",
       "50%             5.800000          3.000000           4.350000   \n",
       "75%             6.400000          3.300000           5.100000   \n",
       "max             7.900000          4.400000           6.900000   \n",
       "\n",
       "       petal width (cm)      target  \n",
       "count        150.000000  150.000000  \n",
       "mean           1.199333    1.000000  \n",
       "std            0.762238    0.819232  \n",
       "min            0.100000    0.000000  \n",
       "25%            0.300000    0.000000  \n",
       "50%            1.300000    1.000000  \n",
       "75%            1.800000    2.000000  \n",
       "max            2.500000    2.000000  "
      ]
     },
     "execution_count": 1,
     "metadata": {},
     "output_type": "execute_result"
    }
   ],
   "source": [
    "import pandas as pd \n",
    "import numpy as np\n",
    "import math\n",
    "\n",
    "from sklearn import datasets\n",
    "from sklearn.model_selection import KFold\n",
    "from sklearn.preprocessing import Normalizer\n",
    "from sklearn.metrics import accuracy_score\n",
    "from sklearn.neighbors import KNeighborsClassifier\n",
    "\n",
    "from collections import Counter\n",
    "\n",
    "from sklearn.datasets import load_iris\n",
    "# import iris dataset\n",
    "iris = datasets.load_iris()\n",
    "# np.c_ is the numpy concatenate function\n",
    "df_iris = pd.DataFrame(data= np.c_[iris['data'], iris['target']],\n",
    "                      columns= iris['feature_names'] + ['target'])\n",
    "df_iris.describe()"
   ]
  },
  {
   "cell_type": "markdown",
   "id": "f6ce4012",
   "metadata": {},
   "source": [
    "DataFrame before shuffe"
   ]
  },
  {
   "cell_type": "code",
   "execution_count": 2,
   "id": "033b0183",
   "metadata": {},
   "outputs": [
    {
     "data": {
      "text/html": [
       "<div>\n",
       "<style scoped>\n",
       "    .dataframe tbody tr th:only-of-type {\n",
       "        vertical-align: middle;\n",
       "    }\n",
       "\n",
       "    .dataframe tbody tr th {\n",
       "        vertical-align: top;\n",
       "    }\n",
       "\n",
       "    .dataframe thead th {\n",
       "        text-align: right;\n",
       "    }\n",
       "</style>\n",
       "<table border=\"1\" class=\"dataframe\">\n",
       "  <thead>\n",
       "    <tr style=\"text-align: right;\">\n",
       "      <th></th>\n",
       "      <th>sepal length (cm)</th>\n",
       "      <th>sepal width (cm)</th>\n",
       "      <th>petal length (cm)</th>\n",
       "      <th>petal width (cm)</th>\n",
       "      <th>target</th>\n",
       "    </tr>\n",
       "  </thead>\n",
       "  <tbody>\n",
       "    <tr>\n",
       "      <th>0</th>\n",
       "      <td>5.1</td>\n",
       "      <td>3.5</td>\n",
       "      <td>1.4</td>\n",
       "      <td>0.2</td>\n",
       "      <td>0.0</td>\n",
       "    </tr>\n",
       "    <tr>\n",
       "      <th>1</th>\n",
       "      <td>4.9</td>\n",
       "      <td>3.0</td>\n",
       "      <td>1.4</td>\n",
       "      <td>0.2</td>\n",
       "      <td>0.0</td>\n",
       "    </tr>\n",
       "    <tr>\n",
       "      <th>2</th>\n",
       "      <td>4.7</td>\n",
       "      <td>3.2</td>\n",
       "      <td>1.3</td>\n",
       "      <td>0.2</td>\n",
       "      <td>0.0</td>\n",
       "    </tr>\n",
       "    <tr>\n",
       "      <th>3</th>\n",
       "      <td>4.6</td>\n",
       "      <td>3.1</td>\n",
       "      <td>1.5</td>\n",
       "      <td>0.2</td>\n",
       "      <td>0.0</td>\n",
       "    </tr>\n",
       "    <tr>\n",
       "      <th>4</th>\n",
       "      <td>5.0</td>\n",
       "      <td>3.6</td>\n",
       "      <td>1.4</td>\n",
       "      <td>0.2</td>\n",
       "      <td>0.0</td>\n",
       "    </tr>\n",
       "  </tbody>\n",
       "</table>\n",
       "</div>"
      ],
      "text/plain": [
       "   sepal length (cm)  sepal width (cm)  petal length (cm)  petal width (cm)  \\\n",
       "0                5.1               3.5                1.4               0.2   \n",
       "1                4.9               3.0                1.4               0.2   \n",
       "2                4.7               3.2                1.3               0.2   \n",
       "3                4.6               3.1                1.5               0.2   \n",
       "4                5.0               3.6                1.4               0.2   \n",
       "\n",
       "   target  \n",
       "0     0.0  \n",
       "1     0.0  \n",
       "2     0.0  \n",
       "3     0.0  \n",
       "4     0.0  "
      ]
     },
     "execution_count": 2,
     "metadata": {},
     "output_type": "execute_result"
    }
   ],
   "source": [
    "df_iris.head()"
   ]
  },
  {
   "cell_type": "markdown",
   "id": "e11eded6",
   "metadata": {},
   "source": [
    "DataFrame after shuffe"
   ]
  },
  {
   "cell_type": "code",
   "execution_count": 3,
   "id": "89702d50",
   "metadata": {},
   "outputs": [
    {
     "data": {
      "text/html": [
       "<div>\n",
       "<style scoped>\n",
       "    .dataframe tbody tr th:only-of-type {\n",
       "        vertical-align: middle;\n",
       "    }\n",
       "\n",
       "    .dataframe tbody tr th {\n",
       "        vertical-align: top;\n",
       "    }\n",
       "\n",
       "    .dataframe thead th {\n",
       "        text-align: right;\n",
       "    }\n",
       "</style>\n",
       "<table border=\"1\" class=\"dataframe\">\n",
       "  <thead>\n",
       "    <tr style=\"text-align: right;\">\n",
       "      <th></th>\n",
       "      <th>sepal length (cm)</th>\n",
       "      <th>sepal width (cm)</th>\n",
       "      <th>petal length (cm)</th>\n",
       "      <th>petal width (cm)</th>\n",
       "      <th>target</th>\n",
       "    </tr>\n",
       "  </thead>\n",
       "  <tbody>\n",
       "    <tr>\n",
       "      <th>47</th>\n",
       "      <td>4.6</td>\n",
       "      <td>3.2</td>\n",
       "      <td>1.4</td>\n",
       "      <td>0.2</td>\n",
       "      <td>0.0</td>\n",
       "    </tr>\n",
       "    <tr>\n",
       "      <th>3</th>\n",
       "      <td>4.6</td>\n",
       "      <td>3.1</td>\n",
       "      <td>1.5</td>\n",
       "      <td>0.2</td>\n",
       "      <td>0.0</td>\n",
       "    </tr>\n",
       "    <tr>\n",
       "      <th>31</th>\n",
       "      <td>5.4</td>\n",
       "      <td>3.4</td>\n",
       "      <td>1.5</td>\n",
       "      <td>0.4</td>\n",
       "      <td>0.0</td>\n",
       "    </tr>\n",
       "    <tr>\n",
       "      <th>25</th>\n",
       "      <td>5.0</td>\n",
       "      <td>3.0</td>\n",
       "      <td>1.6</td>\n",
       "      <td>0.2</td>\n",
       "      <td>0.0</td>\n",
       "    </tr>\n",
       "    <tr>\n",
       "      <th>15</th>\n",
       "      <td>5.7</td>\n",
       "      <td>4.4</td>\n",
       "      <td>1.5</td>\n",
       "      <td>0.4</td>\n",
       "      <td>0.0</td>\n",
       "    </tr>\n",
       "  </tbody>\n",
       "</table>\n",
       "</div>"
      ],
      "text/plain": [
       "    sepal length (cm)  sepal width (cm)  petal length (cm)  petal width (cm)  \\\n",
       "47                4.6               3.2                1.4               0.2   \n",
       "3                 4.6               3.1                1.5               0.2   \n",
       "31                5.4               3.4                1.5               0.4   \n",
       "25                5.0               3.0                1.6               0.2   \n",
       "15                5.7               4.4                1.5               0.4   \n",
       "\n",
       "    target  \n",
       "47     0.0  \n",
       "3      0.0  \n",
       "31     0.0  \n",
       "25     0.0  \n",
       "15     0.0  "
      ]
     },
     "execution_count": 3,
     "metadata": {},
     "output_type": "execute_result"
    }
   ],
   "source": [
    "df_iris = df_iris.sample(frac = 1, random_state=3)\n",
    "df_iris.head()"
   ]
  },
  {
   "cell_type": "markdown",
   "id": "33d9568b",
   "metadata": {},
   "source": [
    "Split into X and Y"
   ]
  },
  {
   "cell_type": "code",
   "execution_count": 4,
   "id": "f701f098",
   "metadata": {},
   "outputs": [],
   "source": [
    "X= df_iris.iloc[:, :-1]\n",
    "y= df_iris.iloc[:, -1]"
   ]
  },
  {
   "cell_type": "markdown",
   "id": "185a33b4",
   "metadata": {},
   "source": [
    "Split the data into train and test sets"
   ]
  },
  {
   "cell_type": "code",
   "execution_count": 5,
   "id": "516b3e85",
   "metadata": {},
   "outputs": [
    {
     "name": "stdout",
     "output_type": "stream",
     "text": [
      "Total Number of rows in train: 120\n",
      "Total Number of rows in test: 30\n"
     ]
    },
    {
     "name": "stderr",
     "output_type": "stream",
     "text": [
      "C:\\Users\\longe\\AppData\\Local\\Temp\\ipykernel_12472\\1250417975.py:4: FutureWarning: The behavior of `series[i:j]` with an integer-dtype index is deprecated. In a future version, this will be treated as *label-based* indexing, consistent with e.g. `series[i]` lookups. To retain the old behavior, use `series.iloc[i:j]`. To get the future behavior, use `series.loc[i:j]`.\n",
      "  y_train = y[:n_train]\n",
      "C:\\Users\\longe\\AppData\\Local\\Temp\\ipykernel_12472\\1250417975.py:6: FutureWarning: The behavior of `series[i:j]` with an integer-dtype index is deprecated. In a future version, this will be treated as *label-based* indexing, consistent with e.g. `series[i]` lookups. To retain the old behavior, use `series.iloc[i:j]`. To get the future behavior, use `series.loc[i:j]`.\n",
      "  y_test = y[n_train:]\n"
     ]
    }
   ],
   "source": [
    "n_train = math.floor(0.8 * X.shape[0])\n",
    "n_test = math.ceil((0.2) * X.shape[0])\n",
    "X_train = X[:n_train]\n",
    "y_train = y[:n_train]\n",
    "X_test = X[n_train:]\n",
    "y_test = y[n_train:]\n",
    "\n",
    "X_train= np.asarray(X_train)\n",
    "y_train= np.asarray(y_train)\n",
    "X_test= np.asarray(X_test)\n",
    "y_test= np.asarray(y_test)\n",
    "\n",
    "print(\"Total Number of rows in train:\",X_train.shape[0])\n",
    "print(\"Total Number of rows in test:\",X_test.shape[0])"
   ]
  },
  {
   "cell_type": "markdown",
   "id": "8f697dc8",
   "metadata": {},
   "source": [
    "Normalize the Datase"
   ]
  },
  {
   "cell_type": "code",
   "execution_count": 6,
   "id": "311339fe",
   "metadata": {},
   "outputs": [],
   "source": [
    "scaler= Normalizer().fit(X_train) # the scaler is fitted to the training set\n",
    "normalized_X_train= scaler.transform(X_train) # the scaler is applied to the training set\n",
    "normalized_X_test= scaler.transform(X_test) # the scaler is applied to the test set"
   ]
  },
  {
   "cell_type": "code",
   "execution_count": 7,
   "id": "53966bb2",
   "metadata": {},
   "outputs": [
    {
     "name": "stdout",
     "output_type": "stream",
     "text": [
      "X train before Normalization\n",
      "[[4.6 3.2 1.4 0.2]\n",
      " [4.6 3.1 1.5 0.2]\n",
      " [5.4 3.4 1.5 0.4]\n",
      " [5.  3.  1.6 0.2]\n",
      " [5.7 4.4 1.5 0.4]]\n",
      "\n",
      "X train after Normalization\n",
      "[[0.79594782 0.55370283 0.24224499 0.03460643]\n",
      " [0.80003025 0.53915082 0.26087943 0.03478392]\n",
      " [0.82225028 0.51771314 0.22840286 0.06090743]\n",
      " [0.82647451 0.4958847  0.26447184 0.03305898]\n",
      " [0.77381111 0.59732787 0.2036345  0.05430253]]\n"
     ]
    }
   ],
   "source": [
    "print('X train before Normalization')\n",
    "print(X_train[0:5])\n",
    "print('\\nX train after Normalization')\n",
    "print(normalized_X_train[0:5])"
   ]
  },
  {
   "cell_type": "markdown",
   "id": "2cdea60d",
   "metadata": {},
   "source": [
    "### Custom implementation of KNN"
   ]
  },
  {
   "cell_type": "markdown",
   "id": "7040e0eb",
   "metadata": {},
   "source": [
    "Step 1 (Euclidean Distance)"
   ]
  },
  {
   "cell_type": "code",
   "execution_count": 8,
   "id": "5d25355f",
   "metadata": {},
   "outputs": [],
   "source": [
    "def distance_ecu(X_train, X_test_point):\n",
    " \n",
    "  distances= []  ## create empty list called distances\n",
    "  for row in range(len(X_train)): ## Loop over the rows of x_train\n",
    "      current_train_point= X_train[row] #Get them point by point\n",
    "      current_distance= 0 ## initialize the distance by zero\n",
    "\n",
    "      for col in range(len(current_train_point)): ## Loop over the columns of the row\n",
    "          \n",
    "          current_distance += (current_train_point[col] - X_test_point[col]) **2\n",
    "          ## Or current_distance = current_distance + (x_train[i] - x_test_point[i])**2\n",
    "      current_distance= np.sqrt(current_distance)\n",
    "\n",
    "      distances.append(current_distance) ## Append the distances\n",
    "\n",
    "  # Store distances in a dataframe\n",
    "  distances= pd.DataFrame(data=distances,columns=['dist'])\n",
    "  return distances # the distances between the test point and each point in the training data"
   ]
  },
  {
   "cell_type": "markdown",
   "id": "1b87e232",
   "metadata": {},
   "source": [
    "Step 2 (Find the nearest neighbors)"
   ]
  },
  {
   "cell_type": "code",
   "execution_count": 9,
   "id": "2f604485",
   "metadata": {},
   "outputs": [],
   "source": [
    "def nearest_neighbors(distance_point, K):\n",
    "    \n",
    "    # Sort values using the sort_values function\n",
    "    df_nearest= distance_point.sort_values(by=['dist'], axis=0)\n",
    "\n",
    "    ## Take only the first K neighbors\n",
    "    df_nearest= df_nearest[:K]\n",
    "    return df_nearest # the nearest K neighbors between the test point and the training data"
   ]
  },
  {
   "cell_type": "markdown",
   "id": "72469b80",
   "metadata": {},
   "source": [
    "Step 3 (Classify the point based on a majority vote)"
   ]
  },
  {
   "cell_type": "code",
   "execution_count": 10,
   "id": "79d9d8b2",
   "metadata": {},
   "outputs": [],
   "source": [
    "def voting(df_nearest, y_train):\n",
    "   \n",
    "    ## Use the Counter Object to get the labels with K nearest neighbors.\n",
    "    counter_vote= Counter(y_train[df_nearest.index])\n",
    "\n",
    "    y_pred= counter_vote.most_common()[0][0]   # Majority Voting\n",
    "\n",
    "    return y_pred # the prediction based on Majority Voting"
   ]
  },
  {
   "cell_type": "markdown",
   "id": "220762ae",
   "metadata": {},
   "source": [
    "Full Algorithm: Putting Everything Together"
   ]
  },
  {
   "cell_type": "code",
   "execution_count": 11,
   "id": "28513c87",
   "metadata": {},
   "outputs": [],
   "source": [
    "def KNN_from_scratch(X_train, y_train, X_test, K):\n",
    "\n",
    "    y_pred=[]\n",
    "    ## Loop over all the test set and perform the three steps\n",
    "    for X_test_point in X_test:\n",
    "      distance_point  = distance_ecu(X_train, X_test_point)  ## Step 1\n",
    "      df_nearest_point= nearest_neighbors(distance_point, K)  ## Step 2\n",
    "      y_pred_point    = voting(df_nearest_point, y_train) ## Step 3\n",
    "      y_pred.append(y_pred_point)\n",
    "\n",
    "    return y_pred  # the prediction for the whole test set based on Majority Voting"
   ]
  },
  {
   "cell_type": "markdown",
   "id": "ff34d86b",
   "metadata": {},
   "source": [
    "Test the KNN Algorithm on the test dataset"
   ]
  },
  {
   "cell_type": "code",
   "execution_count": 12,
   "id": "64d96a6b",
   "metadata": {},
   "outputs": [
    {
     "name": "stdout",
     "output_type": "stream",
     "text": [
      "[0.0, 0.0, 0.0, 1.0, 2.0, 0.0, 0.0, 2.0, 0.0, 1.0, 2.0, 1.0, 2.0, 2.0, 1.0, 1.0, 2.0, 1.0, 0.0, 1.0, 1.0, 0.0, 1.0, 2.0, 2.0, 2.0, 0.0, 0.0, 1.0, 2.0]\n"
     ]
    }
   ],
   "source": [
    "K=1\n",
    "y_pred_scratch= KNN_from_scratch(normalized_X_train, y_train, normalized_X_test, K)\n",
    "print(y_pred_scratch)"
   ]
  },
  {
   "cell_type": "markdown",
   "id": "cd2f331b",
   "metadata": {},
   "source": [
    "Compare our implementation with Sklearn library"
   ]
  },
  {
   "cell_type": "code",
   "execution_count": 13,
   "id": "94f882a2",
   "metadata": {},
   "outputs": [
    {
     "name": "stdout",
     "output_type": "stream",
     "text": [
      "[0. 0. 0. 1. 2. 0. 0. 2. 0. 1. 2. 1. 2. 2. 1. 1. 2. 1. 0. 1. 1. 0. 1. 2.\n",
      " 2. 2. 0. 0. 1. 2.]\n"
     ]
    }
   ],
   "source": [
    "knn=KNeighborsClassifier(K)\n",
    "knn.fit(normalized_X_train, y_train)\n",
    "y_pred_sklearn= knn.predict(normalized_X_test)\n",
    "print(y_pred_sklearn)"
   ]
  },
  {
   "cell_type": "markdown",
   "id": "dc9a820e",
   "metadata": {},
   "source": [
    "Calculate the accuracy of both methods"
   ]
  },
  {
   "cell_type": "code",
   "execution_count": 14,
   "id": "73eee6e7",
   "metadata": {},
   "outputs": [
    {
     "name": "stdout",
     "output_type": "stream",
     "text": [
      "The accuracy of our implementation is 0.9666666666666667\n",
      "The accuracy of sklearn implementation is 0.9666666666666667\n"
     ]
    }
   ],
   "source": [
    "print(f'The accuracy of our implementation is {accuracy_score(y_test, y_pred_scratch)}')\n",
    "print(f'The accuracy of sklearn implementation is {accuracy_score(y_test, y_pred_sklearn)}')"
   ]
  },
  {
   "cell_type": "markdown",
   "id": "905e6c6e",
   "metadata": {},
   "source": [
    "Perform Hyper-parameter Tuning using K-fold Cross Validation"
   ]
  },
  {
   "cell_type": "code",
   "execution_count": 15,
   "id": "6a267fb7",
   "metadata": {},
   "outputs": [],
   "source": [
    "n_splits= 4 ## Choose the number of splits\n",
    "kf= KFold(n_splits= n_splits) ## Call the K Fold function\n",
    "\n",
    "accuracy_k= [] ## Keep track of the accuracy for each K\n",
    "k_values= list(range(1,32,2)) ## Search for the best value of K\n",
    "\n",
    "for k in k_values: ## Loop over the K values\n",
    "  accuracy_fold= 0\n",
    "  for normalized_X_train_fold_idx, normalized_X_valid_fold_idx in  kf.split(normalized_X_train): ## Loop over the splits\n",
    "      normalized_X_train_fold= normalized_X_train[normalized_X_train_fold_idx] ## fetch the values\n",
    "      y_train_fold= y_train[normalized_X_train_fold_idx]\n",
    "\n",
    "      normalized_X_test_fold= normalized_X_train[normalized_X_valid_fold_idx]\n",
    "      y_valid_fold= y_train[normalized_X_valid_fold_idx]\n",
    "      y_pred_fold= KNN_from_scratch(normalized_X_train_fold, y_train_fold, normalized_X_test_fold, k)\n",
    "\n",
    "      accuracy_fold+= accuracy_score (y_pred_fold, y_valid_fold) ## Accumulate the accuracy\n",
    "  accuracy_fold= accuracy_fold/ n_splits ## Divide by the number of splits\n",
    "  accuracy_k.append(accuracy_fold)"
   ]
  },
  {
   "cell_type": "code",
   "execution_count": 16,
   "id": "88fa1ce9",
   "metadata": {},
   "outputs": [
    {
     "name": "stdout",
     "output_type": "stream",
     "text": [
      "The accuracy for each K value was [(0.9666666666666667, 1), (0.975, 3), (0.9666666666666667, 5), (0.9666666666666667, 7), (0.9666666666666667, 9), (0.9666666666666667, 11), (0.9666666666666667, 13), (0.9666666666666667, 15), (0.9666666666666667, 17), (0.9666666666666667, 19), (0.9583333333333333, 21), (0.9666666666666667, 23), (0.9666666666666667, 25), (0.975, 27), (0.9666666666666667, 29), (0.9666666666666667, 31)]\n"
     ]
    }
   ],
   "source": [
    "print(f'The accuracy for each K value was {list ( zip (accuracy_k, k_values))}') ## creates a tuple with accuracy corresponding to k value"
   ]
  },
  {
   "cell_type": "markdown",
   "id": "dcee1a64",
   "metadata": {},
   "source": [
    "### Result"
   ]
  },
  {
   "cell_type": "code",
   "execution_count": 17,
   "id": "11b2c3f0",
   "metadata": {},
   "outputs": [
    {
     "name": "stdout",
     "output_type": "stream",
     "text": [
      "The best k = 3 , score = 0.975\n"
     ]
    }
   ],
   "source": [
    "k_best = k_values[np.argmax(accuracy_k)] # 'compute the best k'\n",
    "score_best = np.max(accuracy_k) #'compute the best score'\n",
    "print ('The best k = {} , score = {}'.format(k_best,score_best ))"
   ]
  },
  {
   "cell_type": "code",
   "execution_count": null,
   "id": "fccdd5e3",
   "metadata": {},
   "outputs": [],
   "source": []
  }
 ],
 "metadata": {
  "kernelspec": {
   "display_name": "Python 3 (ipykernel)",
   "language": "python",
   "name": "python3"
  },
  "language_info": {
   "codemirror_mode": {
    "name": "ipython",
    "version": 3
   },
   "file_extension": ".py",
   "mimetype": "text/x-python",
   "name": "python",
   "nbconvert_exporter": "python",
   "pygments_lexer": "ipython3",
   "version": "3.10.5"
  }
 },
 "nbformat": 4,
 "nbformat_minor": 5
}
