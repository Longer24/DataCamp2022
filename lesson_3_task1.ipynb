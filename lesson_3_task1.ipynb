{
 "cells": [
  {
   "cell_type": "markdown",
   "id": "c67ec16a",
   "metadata": {},
   "source": [
    "# Home task: Pandas \n"
   ]
  },
  {
   "cell_type": "code",
   "execution_count": 1,
   "id": "e48eb315",
   "metadata": {},
   "outputs": [],
   "source": [
    "import pandas as pd\n",
    "import numpy as np\n",
    "import os\n",
    "import re"
   ]
  },
  {
   "cell_type": "markdown",
   "id": "99e99f98",
   "metadata": {},
   "source": [
    "#### Set working directory"
   ]
  },
  {
   "cell_type": "code",
   "execution_count": 2,
   "id": "b42bd3f4",
   "metadata": {},
   "outputs": [],
   "source": [
    "cwd= os.getcwd()\n",
    "path = os.path.join(cwd,'/tree/Camp2022')  "
   ]
  },
  {
   "cell_type": "markdown",
   "id": "8315a3e1",
   "metadata": {},
   "source": [
    "#### Loading file Energy Indicators.xls, excluding the footer and header information from the datafile, and setting column names."
   ]
  },
  {
   "cell_type": "code",
   "execution_count": 3,
   "id": "d263090e",
   "metadata": {},
   "outputs": [],
   "source": [
    "file1 = 'Energy Indicators.xls.'\n",
    "energy = pd.read_excel(file1, header=0, skiprows=17, skipfooter=38)\n",
    "energy.columns = ['one','two', 'Country', 'Energy Supply', 'Energy Supply per Capita', '% Renewable']\n"
   ]
  },
  {
   "cell_type": "markdown",
   "id": "c0dc5ddd",
   "metadata": {},
   "source": [
    "#### Ridding first two columns "
   ]
  },
  {
   "cell_type": "code",
   "execution_count": 4,
   "id": "a9162241",
   "metadata": {},
   "outputs": [],
   "source": [
    "energy.drop(columns=['one','two'], inplace=True)\n",
    "energy.replace('...', np.nan, inplace=True)"
   ]
  },
  {
   "cell_type": "markdown",
   "id": "1d76f202",
   "metadata": {},
   "source": [
    "#### Removing numbers and parenthesis in countries names"
   ]
  },
  {
   "cell_type": "code",
   "execution_count": 5,
   "id": "e1de7885",
   "metadata": {},
   "outputs": [
    {
     "name": "stderr",
     "output_type": "stream",
     "text": [
      "C:\\Users\\longe\\AppData\\Local\\Temp\\ipykernel_8800\\2070413150.py:1: FutureWarning: The default value of regex will change from True to False in a future version.\n",
      "  energy['Country'] = energy['Country'].str.replace('\\d+', '')\n",
      "C:\\Users\\longe\\AppData\\Local\\Temp\\ipykernel_8800\\2070413150.py:2: FutureWarning: The default value of regex will change from True to False in a future version.\n",
      "  energy['Country'] = energy['Country'].str.replace('\\s\\([^)]*\\)', '')\n"
     ]
    }
   ],
   "source": [
    "energy['Country'] = energy['Country'].str.replace('\\d+', '')\n",
    "energy['Country'] = energy['Country'].str.replace('\\s\\([^)]*\\)', '')"
   ]
  },
  {
   "cell_type": "markdown",
   "id": "093c32d9",
   "metadata": {},
   "source": [
    "#### Converting Energy Supply to gigajoules (there are 1,000,000 gigajoules in a petajoule)."
   ]
  },
  {
   "cell_type": "code",
   "execution_count": 6,
   "id": "de6ac10b",
   "metadata": {},
   "outputs": [],
   "source": [
    "energy['Energy Supply'] = energy['Energy Supply']*1000000"
   ]
  },
  {
   "cell_type": "markdown",
   "id": "89a0d6d7",
   "metadata": {},
   "source": [
    "#### Renaming countries for using in later questions"
   ]
  },
  {
   "cell_type": "code",
   "execution_count": 7,
   "id": "d1053c68",
   "metadata": {},
   "outputs": [],
   "source": [
    "energy.replace('Republic of Korea', 'South Korea', inplace=True)\n",
    "energy.replace('United States of America', 'United States', inplace=True)\n",
    "energy.replace('United Kingdom of Great Britain and Northern Ireland', 'United Kingdom', inplace=True)\n",
    "energy.replace('China, Hong Kong Special Administrative Region', 'Hong Kong', inplace=True)"
   ]
  },
  {
   "cell_type": "markdown",
   "id": "6f043e0d",
   "metadata": {},
   "source": [
    "#### Loading the GDP data from the file \"world_bank.csv\""
   ]
  },
  {
   "cell_type": "code",
   "execution_count": 8,
   "id": "b8e6aa32",
   "metadata": {},
   "outputs": [],
   "source": [
    "file2 = 'world_bank.csv'\n",
    "GDP = pd.read_csv(file2, skiprows=4)"
   ]
  },
  {
   "cell_type": "markdown",
   "id": "f0df73f1",
   "metadata": {},
   "source": [
    "#### Renaming countries and column name for using in later questions"
   ]
  },
  {
   "cell_type": "code",
   "execution_count": 9,
   "id": "9e1d69ef",
   "metadata": {
    "scrolled": true
   },
   "outputs": [],
   "source": [
    "GDP.replace('Korea, Rep.', 'South Korea', inplace=True)\n",
    "GDP.replace('Iran, Islamic Rep.', 'Iran', inplace=True)\n",
    "GDP.replace('Hong Kong SAR, China', 'Hong Kong', inplace=True)\n",
    "GDP.rename(columns={'Country Name': 'Country'}, inplace=True)"
   ]
  },
  {
   "cell_type": "markdown",
   "id": "39e6993f",
   "metadata": {},
   "source": [
    "#### Loading \"Sciamgo Journal and Country Rank data for Energy Engineering and Power Technology\"."
   ]
  },
  {
   "cell_type": "code",
   "execution_count": 10,
   "id": "a02f96a5",
   "metadata": {},
   "outputs": [],
   "source": [
    "file3 = 'scimagojr country rank 1996-2021.xlsx'\n",
    "ScimEn = pd.read_excel(file3)"
   ]
  },
  {
   "cell_type": "markdown",
   "id": "4c854094",
   "metadata": {},
   "source": [
    "#### Joining three datasets: Energy, GDP, and ScimEn into a new datase. \n",
    "Using only 10 years (2006-2015) of GDP data and only the top 15 countries by Scimagojr 'Rank'."
   ]
  },
  {
   "cell_type": "code",
   "execution_count": 11,
   "id": "9be75542",
   "metadata": {},
   "outputs": [],
   "source": [
    "df = pd.merge(pd.merge(energy, GDP, on='Country'), ScimEn, on='Country')\n",
    "df.set_index('Country',inplace=True)\n",
    "df = df[['Rank', 'Documents', 'Citable documents', 'Citations', 'Self-citations', 'Citations per document', 'H index', 'Energy Supply', 'Energy Supply per Capita', '% Renewable', '2006', '2007', '2008', '2009', '2010', '2011', '2012', '2013', '2014', '2015']]\n",
    "df = (df.loc[df['Rank'].isin([i for i in range(1, 16)])])\n",
    "df.sort_values('Rank',inplace=True)"
   ]
  },
  {
   "cell_type": "markdown",
   "id": "6b6a7569",
   "metadata": {},
   "source": [
    "#### Function \"answer_one\" returning resulted DataFrame (20 columns and 15 entries)"
   ]
  },
  {
   "cell_type": "code",
   "execution_count": 12,
   "id": "3064cdf1",
   "metadata": {},
   "outputs": [],
   "source": [
    "def answer_one():\n",
    "    return df"
   ]
  },
  {
   "cell_type": "code",
   "execution_count": 13,
   "id": "f0ee152a",
   "metadata": {},
   "outputs": [
    {
     "data": {
      "text/html": [
       "<div>\n",
       "<style scoped>\n",
       "    .dataframe tbody tr th:only-of-type {\n",
       "        vertical-align: middle;\n",
       "    }\n",
       "\n",
       "    .dataframe tbody tr th {\n",
       "        vertical-align: top;\n",
       "    }\n",
       "\n",
       "    .dataframe thead th {\n",
       "        text-align: right;\n",
       "    }\n",
       "</style>\n",
       "<table border=\"1\" class=\"dataframe\">\n",
       "  <thead>\n",
       "    <tr style=\"text-align: right;\">\n",
       "      <th></th>\n",
       "      <th>Rank</th>\n",
       "      <th>Documents</th>\n",
       "      <th>Citable documents</th>\n",
       "      <th>Citations</th>\n",
       "      <th>Self-citations</th>\n",
       "      <th>Citations per document</th>\n",
       "      <th>H index</th>\n",
       "      <th>Energy Supply</th>\n",
       "      <th>Energy Supply per Capita</th>\n",
       "      <th>% Renewable</th>\n",
       "      <th>2006</th>\n",
       "      <th>2007</th>\n",
       "      <th>2008</th>\n",
       "      <th>2009</th>\n",
       "      <th>2010</th>\n",
       "      <th>2011</th>\n",
       "      <th>2012</th>\n",
       "      <th>2013</th>\n",
       "      <th>2014</th>\n",
       "      <th>2015</th>\n",
       "    </tr>\n",
       "    <tr>\n",
       "      <th>Country</th>\n",
       "      <th></th>\n",
       "      <th></th>\n",
       "      <th></th>\n",
       "      <th></th>\n",
       "      <th></th>\n",
       "      <th></th>\n",
       "      <th></th>\n",
       "      <th></th>\n",
       "      <th></th>\n",
       "      <th></th>\n",
       "      <th></th>\n",
       "      <th></th>\n",
       "      <th></th>\n",
       "      <th></th>\n",
       "      <th></th>\n",
       "      <th></th>\n",
       "      <th></th>\n",
       "      <th></th>\n",
       "      <th></th>\n",
       "      <th></th>\n",
       "    </tr>\n",
       "  </thead>\n",
       "  <tbody>\n",
       "    <tr>\n",
       "      <th>China</th>\n",
       "      <td>1</td>\n",
       "      <td>303064</td>\n",
       "      <td>301778</td>\n",
       "      <td>3036531</td>\n",
       "      <td>2092737</td>\n",
       "      <td>10.02</td>\n",
       "      <td>273</td>\n",
       "      <td>1.271910e+11</td>\n",
       "      <td>93.0</td>\n",
       "      <td>19.754910</td>\n",
       "      <td>2.752132e+12</td>\n",
       "      <td>3.550343e+12</td>\n",
       "      <td>4.594307e+12</td>\n",
       "      <td>5.101703e+12</td>\n",
       "      <td>6.087164e+12</td>\n",
       "      <td>7.551500e+12</td>\n",
       "      <td>8.532230e+12</td>\n",
       "      <td>9.570406e+12</td>\n",
       "      <td>1.047568e+13</td>\n",
       "      <td>1.106155e+13</td>\n",
       "    </tr>\n",
       "    <tr>\n",
       "      <th>United States</th>\n",
       "      <td>2</td>\n",
       "      <td>184851</td>\n",
       "      <td>181106</td>\n",
       "      <td>2623922</td>\n",
       "      <td>819242</td>\n",
       "      <td>14.19</td>\n",
       "      <td>389</td>\n",
       "      <td>9.083800e+10</td>\n",
       "      <td>286.0</td>\n",
       "      <td>11.570980</td>\n",
       "      <td>1.381559e+13</td>\n",
       "      <td>1.447423e+13</td>\n",
       "      <td>1.476986e+13</td>\n",
       "      <td>1.447806e+13</td>\n",
       "      <td>1.504896e+13</td>\n",
       "      <td>1.559973e+13</td>\n",
       "      <td>1.625397e+13</td>\n",
       "      <td>1.684319e+13</td>\n",
       "      <td>1.755068e+13</td>\n",
       "      <td>1.820602e+13</td>\n",
       "    </tr>\n",
       "    <tr>\n",
       "      <th>India</th>\n",
       "      <td>3</td>\n",
       "      <td>60257</td>\n",
       "      <td>58589</td>\n",
       "      <td>590570</td>\n",
       "      <td>213760</td>\n",
       "      <td>9.80</td>\n",
       "      <td>198</td>\n",
       "      <td>3.319500e+10</td>\n",
       "      <td>26.0</td>\n",
       "      <td>14.969080</td>\n",
       "      <td>9.402599e+11</td>\n",
       "      <td>1.216735e+12</td>\n",
       "      <td>1.198896e+12</td>\n",
       "      <td>1.341887e+12</td>\n",
       "      <td>1.675615e+12</td>\n",
       "      <td>1.823050e+12</td>\n",
       "      <td>1.827638e+12</td>\n",
       "      <td>1.856722e+12</td>\n",
       "      <td>2.039127e+12</td>\n",
       "      <td>2.103588e+12</td>\n",
       "    </tr>\n",
       "    <tr>\n",
       "      <th>Japan</th>\n",
       "      <td>4</td>\n",
       "      <td>52780</td>\n",
       "      <td>52281</td>\n",
       "      <td>557023</td>\n",
       "      <td>132113</td>\n",
       "      <td>10.55</td>\n",
       "      <td>203</td>\n",
       "      <td>1.898400e+10</td>\n",
       "      <td>149.0</td>\n",
       "      <td>10.232820</td>\n",
       "      <td>4.601663e+12</td>\n",
       "      <td>4.579751e+12</td>\n",
       "      <td>5.106679e+12</td>\n",
       "      <td>5.289493e+12</td>\n",
       "      <td>5.759072e+12</td>\n",
       "      <td>6.233147e+12</td>\n",
       "      <td>6.272363e+12</td>\n",
       "      <td>5.212328e+12</td>\n",
       "      <td>4.896994e+12</td>\n",
       "      <td>4.444931e+12</td>\n",
       "    </tr>\n",
       "    <tr>\n",
       "      <th>United Kingdom</th>\n",
       "      <td>5</td>\n",
       "      <td>47141</td>\n",
       "      <td>45928</td>\n",
       "      <td>748994</td>\n",
       "      <td>132737</td>\n",
       "      <td>15.89</td>\n",
       "      <td>244</td>\n",
       "      <td>7.920000e+09</td>\n",
       "      <td>124.0</td>\n",
       "      <td>10.600470</td>\n",
       "      <td>2.717060e+12</td>\n",
       "      <td>3.106182e+12</td>\n",
       "      <td>2.938882e+12</td>\n",
       "      <td>2.425798e+12</td>\n",
       "      <td>2.491110e+12</td>\n",
       "      <td>2.674891e+12</td>\n",
       "      <td>2.719158e+12</td>\n",
       "      <td>2.803291e+12</td>\n",
       "      <td>3.087166e+12</td>\n",
       "      <td>2.956574e+12</td>\n",
       "    </tr>\n",
       "    <tr>\n",
       "      <th>Germany</th>\n",
       "      <td>6</td>\n",
       "      <td>42343</td>\n",
       "      <td>41464</td>\n",
       "      <td>528645</td>\n",
       "      <td>115432</td>\n",
       "      <td>12.48</td>\n",
       "      <td>211</td>\n",
       "      <td>1.326100e+10</td>\n",
       "      <td>165.0</td>\n",
       "      <td>17.901530</td>\n",
       "      <td>2.994704e+12</td>\n",
       "      <td>3.425578e+12</td>\n",
       "      <td>3.745264e+12</td>\n",
       "      <td>3.411261e+12</td>\n",
       "      <td>3.399668e+12</td>\n",
       "      <td>3.749315e+12</td>\n",
       "      <td>3.527143e+12</td>\n",
       "      <td>3.733805e+12</td>\n",
       "      <td>3.889093e+12</td>\n",
       "      <td>3.357586e+12</td>\n",
       "    </tr>\n",
       "    <tr>\n",
       "      <th>Russian Federation</th>\n",
       "      <td>7</td>\n",
       "      <td>39424</td>\n",
       "      <td>39189</td>\n",
       "      <td>142937</td>\n",
       "      <td>67935</td>\n",
       "      <td>3.63</td>\n",
       "      <td>96</td>\n",
       "      <td>3.070900e+10</td>\n",
       "      <td>214.0</td>\n",
       "      <td>17.288680</td>\n",
       "      <td>9.899305e+11</td>\n",
       "      <td>1.299706e+12</td>\n",
       "      <td>1.660846e+12</td>\n",
       "      <td>1.222644e+12</td>\n",
       "      <td>1.524917e+12</td>\n",
       "      <td>2.045926e+12</td>\n",
       "      <td>2.208296e+12</td>\n",
       "      <td>2.292473e+12</td>\n",
       "      <td>2.059242e+12</td>\n",
       "      <td>1.363481e+12</td>\n",
       "    </tr>\n",
       "    <tr>\n",
       "      <th>Canada</th>\n",
       "      <td>8</td>\n",
       "      <td>35588</td>\n",
       "      <td>34940</td>\n",
       "      <td>665415</td>\n",
       "      <td>113363</td>\n",
       "      <td>18.70</td>\n",
       "      <td>246</td>\n",
       "      <td>1.043100e+10</td>\n",
       "      <td>296.0</td>\n",
       "      <td>61.945430</td>\n",
       "      <td>1.319265e+12</td>\n",
       "      <td>1.468820e+12</td>\n",
       "      <td>1.552990e+12</td>\n",
       "      <td>1.374625e+12</td>\n",
       "      <td>1.617343e+12</td>\n",
       "      <td>1.793327e+12</td>\n",
       "      <td>1.828366e+12</td>\n",
       "      <td>1.846597e+12</td>\n",
       "      <td>1.805750e+12</td>\n",
       "      <td>1.556509e+12</td>\n",
       "    </tr>\n",
       "    <tr>\n",
       "      <th>Italy</th>\n",
       "      <td>9</td>\n",
       "      <td>31260</td>\n",
       "      <td>29959</td>\n",
       "      <td>433388</td>\n",
       "      <td>105641</td>\n",
       "      <td>13.86</td>\n",
       "      <td>177</td>\n",
       "      <td>6.530000e+09</td>\n",
       "      <td>109.0</td>\n",
       "      <td>33.667230</td>\n",
       "      <td>1.949552e+12</td>\n",
       "      <td>2.213102e+12</td>\n",
       "      <td>2.408655e+12</td>\n",
       "      <td>2.199929e+12</td>\n",
       "      <td>2.136100e+12</td>\n",
       "      <td>2.294994e+12</td>\n",
       "      <td>2.086958e+12</td>\n",
       "      <td>2.141924e+12</td>\n",
       "      <td>2.162010e+12</td>\n",
       "      <td>1.836638e+12</td>\n",
       "    </tr>\n",
       "    <tr>\n",
       "      <th>South Korea</th>\n",
       "      <td>10</td>\n",
       "      <td>31200</td>\n",
       "      <td>30949</td>\n",
       "      <td>405923</td>\n",
       "      <td>74753</td>\n",
       "      <td>13.01</td>\n",
       "      <td>169</td>\n",
       "      <td>1.100700e+10</td>\n",
       "      <td>221.0</td>\n",
       "      <td>2.279353</td>\n",
       "      <td>1.053217e+12</td>\n",
       "      <td>1.172614e+12</td>\n",
       "      <td>1.047339e+12</td>\n",
       "      <td>9.439419e+11</td>\n",
       "      <td>1.144067e+12</td>\n",
       "      <td>1.253223e+12</td>\n",
       "      <td>1.278428e+12</td>\n",
       "      <td>1.370795e+12</td>\n",
       "      <td>1.484318e+12</td>\n",
       "      <td>1.465773e+12</td>\n",
       "    </tr>\n",
       "    <tr>\n",
       "      <th>France</th>\n",
       "      <td>11</td>\n",
       "      <td>26848</td>\n",
       "      <td>26320</td>\n",
       "      <td>403834</td>\n",
       "      <td>73792</td>\n",
       "      <td>15.04</td>\n",
       "      <td>190</td>\n",
       "      <td>1.059700e+10</td>\n",
       "      <td>166.0</td>\n",
       "      <td>17.020280</td>\n",
       "      <td>2.320536e+12</td>\n",
       "      <td>2.660591e+12</td>\n",
       "      <td>2.930304e+12</td>\n",
       "      <td>2.700887e+12</td>\n",
       "      <td>2.645188e+12</td>\n",
       "      <td>2.865158e+12</td>\n",
       "      <td>2.683672e+12</td>\n",
       "      <td>2.811877e+12</td>\n",
       "      <td>2.855964e+12</td>\n",
       "      <td>2.439189e+12</td>\n",
       "    </tr>\n",
       "    <tr>\n",
       "      <th>Iran</th>\n",
       "      <td>12</td>\n",
       "      <td>25481</td>\n",
       "      <td>25204</td>\n",
       "      <td>398571</td>\n",
       "      <td>122647</td>\n",
       "      <td>15.64</td>\n",
       "      <td>159</td>\n",
       "      <td>9.172000e+09</td>\n",
       "      <td>119.0</td>\n",
       "      <td>5.707721</td>\n",
       "      <td>2.662989e+11</td>\n",
       "      <td>3.498816e+11</td>\n",
       "      <td>4.123362e+11</td>\n",
       "      <td>4.163970e+11</td>\n",
       "      <td>4.868076e+11</td>\n",
       "      <td>6.261331e+11</td>\n",
       "      <td>6.440355e+11</td>\n",
       "      <td>4.927756e+11</td>\n",
       "      <td>4.603828e+11</td>\n",
       "      <td>4.082129e+11</td>\n",
       "    </tr>\n",
       "    <tr>\n",
       "      <th>Spain</th>\n",
       "      <td>13</td>\n",
       "      <td>24969</td>\n",
       "      <td>24505</td>\n",
       "      <td>427391</td>\n",
       "      <td>77583</td>\n",
       "      <td>17.12</td>\n",
       "      <td>187</td>\n",
       "      <td>4.923000e+09</td>\n",
       "      <td>106.0</td>\n",
       "      <td>37.968590</td>\n",
       "      <td>1.260399e+12</td>\n",
       "      <td>1.474003e+12</td>\n",
       "      <td>1.631863e+12</td>\n",
       "      <td>1.491473e+12</td>\n",
       "      <td>1.422108e+12</td>\n",
       "      <td>1.480710e+12</td>\n",
       "      <td>1.324744e+12</td>\n",
       "      <td>1.355143e+12</td>\n",
       "      <td>1.371223e+12</td>\n",
       "      <td>1.195600e+12</td>\n",
       "    </tr>\n",
       "    <tr>\n",
       "      <th>Brazil</th>\n",
       "      <td>14</td>\n",
       "      <td>23110</td>\n",
       "      <td>22762</td>\n",
       "      <td>219895</td>\n",
       "      <td>53635</td>\n",
       "      <td>9.52</td>\n",
       "      <td>139</td>\n",
       "      <td>1.214900e+10</td>\n",
       "      <td>59.0</td>\n",
       "      <td>69.648030</td>\n",
       "      <td>1.107627e+12</td>\n",
       "      <td>1.397114e+12</td>\n",
       "      <td>1.695855e+12</td>\n",
       "      <td>1.666996e+12</td>\n",
       "      <td>2.208838e+12</td>\n",
       "      <td>2.616157e+12</td>\n",
       "      <td>2.465228e+12</td>\n",
       "      <td>2.472819e+12</td>\n",
       "      <td>2.456044e+12</td>\n",
       "      <td>1.802212e+12</td>\n",
       "    </tr>\n",
       "    <tr>\n",
       "      <th>Australia</th>\n",
       "      <td>15</td>\n",
       "      <td>22803</td>\n",
       "      <td>22276</td>\n",
       "      <td>396186</td>\n",
       "      <td>62694</td>\n",
       "      <td>17.37</td>\n",
       "      <td>192</td>\n",
       "      <td>5.386000e+09</td>\n",
       "      <td>231.0</td>\n",
       "      <td>11.810810</td>\n",
       "      <td>7.475562e+11</td>\n",
       "      <td>8.539554e+11</td>\n",
       "      <td>1.055127e+12</td>\n",
       "      <td>9.280430e+11</td>\n",
       "      <td>1.147589e+12</td>\n",
       "      <td>1.397908e+12</td>\n",
       "      <td>1.546509e+12</td>\n",
       "      <td>1.576335e+12</td>\n",
       "      <td>1.467505e+12</td>\n",
       "      <td>1.350534e+12</td>\n",
       "    </tr>\n",
       "  </tbody>\n",
       "</table>\n",
       "</div>"
      ],
      "text/plain": [
       "                    Rank  Documents  Citable documents  Citations  \\\n",
       "Country                                                             \n",
       "China                  1     303064             301778    3036531   \n",
       "United States          2     184851             181106    2623922   \n",
       "India                  3      60257              58589     590570   \n",
       "Japan                  4      52780              52281     557023   \n",
       "United Kingdom         5      47141              45928     748994   \n",
       "Germany                6      42343              41464     528645   \n",
       "Russian Federation     7      39424              39189     142937   \n",
       "Canada                 8      35588              34940     665415   \n",
       "Italy                  9      31260              29959     433388   \n",
       "South Korea           10      31200              30949     405923   \n",
       "France                11      26848              26320     403834   \n",
       "Iran                  12      25481              25204     398571   \n",
       "Spain                 13      24969              24505     427391   \n",
       "Brazil                14      23110              22762     219895   \n",
       "Australia             15      22803              22276     396186   \n",
       "\n",
       "                    Self-citations  Citations per document  H index  \\\n",
       "Country                                                               \n",
       "China                      2092737                   10.02      273   \n",
       "United States               819242                   14.19      389   \n",
       "India                       213760                    9.80      198   \n",
       "Japan                       132113                   10.55      203   \n",
       "United Kingdom              132737                   15.89      244   \n",
       "Germany                     115432                   12.48      211   \n",
       "Russian Federation           67935                    3.63       96   \n",
       "Canada                      113363                   18.70      246   \n",
       "Italy                       105641                   13.86      177   \n",
       "South Korea                  74753                   13.01      169   \n",
       "France                       73792                   15.04      190   \n",
       "Iran                        122647                   15.64      159   \n",
       "Spain                        77583                   17.12      187   \n",
       "Brazil                       53635                    9.52      139   \n",
       "Australia                    62694                   17.37      192   \n",
       "\n",
       "                    Energy Supply  Energy Supply per Capita  % Renewable  \\\n",
       "Country                                                                    \n",
       "China                1.271910e+11                      93.0    19.754910   \n",
       "United States        9.083800e+10                     286.0    11.570980   \n",
       "India                3.319500e+10                      26.0    14.969080   \n",
       "Japan                1.898400e+10                     149.0    10.232820   \n",
       "United Kingdom       7.920000e+09                     124.0    10.600470   \n",
       "Germany              1.326100e+10                     165.0    17.901530   \n",
       "Russian Federation   3.070900e+10                     214.0    17.288680   \n",
       "Canada               1.043100e+10                     296.0    61.945430   \n",
       "Italy                6.530000e+09                     109.0    33.667230   \n",
       "South Korea          1.100700e+10                     221.0     2.279353   \n",
       "France               1.059700e+10                     166.0    17.020280   \n",
       "Iran                 9.172000e+09                     119.0     5.707721   \n",
       "Spain                4.923000e+09                     106.0    37.968590   \n",
       "Brazil               1.214900e+10                      59.0    69.648030   \n",
       "Australia            5.386000e+09                     231.0    11.810810   \n",
       "\n",
       "                            2006          2007          2008          2009  \\\n",
       "Country                                                                      \n",
       "China               2.752132e+12  3.550343e+12  4.594307e+12  5.101703e+12   \n",
       "United States       1.381559e+13  1.447423e+13  1.476986e+13  1.447806e+13   \n",
       "India               9.402599e+11  1.216735e+12  1.198896e+12  1.341887e+12   \n",
       "Japan               4.601663e+12  4.579751e+12  5.106679e+12  5.289493e+12   \n",
       "United Kingdom      2.717060e+12  3.106182e+12  2.938882e+12  2.425798e+12   \n",
       "Germany             2.994704e+12  3.425578e+12  3.745264e+12  3.411261e+12   \n",
       "Russian Federation  9.899305e+11  1.299706e+12  1.660846e+12  1.222644e+12   \n",
       "Canada              1.319265e+12  1.468820e+12  1.552990e+12  1.374625e+12   \n",
       "Italy               1.949552e+12  2.213102e+12  2.408655e+12  2.199929e+12   \n",
       "South Korea         1.053217e+12  1.172614e+12  1.047339e+12  9.439419e+11   \n",
       "France              2.320536e+12  2.660591e+12  2.930304e+12  2.700887e+12   \n",
       "Iran                2.662989e+11  3.498816e+11  4.123362e+11  4.163970e+11   \n",
       "Spain               1.260399e+12  1.474003e+12  1.631863e+12  1.491473e+12   \n",
       "Brazil              1.107627e+12  1.397114e+12  1.695855e+12  1.666996e+12   \n",
       "Australia           7.475562e+11  8.539554e+11  1.055127e+12  9.280430e+11   \n",
       "\n",
       "                            2010          2011          2012          2013  \\\n",
       "Country                                                                      \n",
       "China               6.087164e+12  7.551500e+12  8.532230e+12  9.570406e+12   \n",
       "United States       1.504896e+13  1.559973e+13  1.625397e+13  1.684319e+13   \n",
       "India               1.675615e+12  1.823050e+12  1.827638e+12  1.856722e+12   \n",
       "Japan               5.759072e+12  6.233147e+12  6.272363e+12  5.212328e+12   \n",
       "United Kingdom      2.491110e+12  2.674891e+12  2.719158e+12  2.803291e+12   \n",
       "Germany             3.399668e+12  3.749315e+12  3.527143e+12  3.733805e+12   \n",
       "Russian Federation  1.524917e+12  2.045926e+12  2.208296e+12  2.292473e+12   \n",
       "Canada              1.617343e+12  1.793327e+12  1.828366e+12  1.846597e+12   \n",
       "Italy               2.136100e+12  2.294994e+12  2.086958e+12  2.141924e+12   \n",
       "South Korea         1.144067e+12  1.253223e+12  1.278428e+12  1.370795e+12   \n",
       "France              2.645188e+12  2.865158e+12  2.683672e+12  2.811877e+12   \n",
       "Iran                4.868076e+11  6.261331e+11  6.440355e+11  4.927756e+11   \n",
       "Spain               1.422108e+12  1.480710e+12  1.324744e+12  1.355143e+12   \n",
       "Brazil              2.208838e+12  2.616157e+12  2.465228e+12  2.472819e+12   \n",
       "Australia           1.147589e+12  1.397908e+12  1.546509e+12  1.576335e+12   \n",
       "\n",
       "                            2014          2015  \n",
       "Country                                         \n",
       "China               1.047568e+13  1.106155e+13  \n",
       "United States       1.755068e+13  1.820602e+13  \n",
       "India               2.039127e+12  2.103588e+12  \n",
       "Japan               4.896994e+12  4.444931e+12  \n",
       "United Kingdom      3.087166e+12  2.956574e+12  \n",
       "Germany             3.889093e+12  3.357586e+12  \n",
       "Russian Federation  2.059242e+12  1.363481e+12  \n",
       "Canada              1.805750e+12  1.556509e+12  \n",
       "Italy               2.162010e+12  1.836638e+12  \n",
       "South Korea         1.484318e+12  1.465773e+12  \n",
       "France              2.855964e+12  2.439189e+12  \n",
       "Iran                4.603828e+11  4.082129e+11  \n",
       "Spain               1.371223e+12  1.195600e+12  \n",
       "Brazil              2.456044e+12  1.802212e+12  \n",
       "Australia           1.467505e+12  1.350534e+12  "
      ]
     },
     "execution_count": 13,
     "metadata": {},
     "output_type": "execute_result"
    }
   ],
   "source": [
    "answer_one()"
   ]
  },
  {
   "cell_type": "markdown",
   "id": "f8ade0ed",
   "metadata": {},
   "source": [
    "#### Question 2\n",
    "What is the average GDP over the last 10 years for each country? (exclude missing values from this calculation.)"
   ]
  },
  {
   "cell_type": "code",
   "execution_count": 14,
   "id": "194345fe",
   "metadata": {},
   "outputs": [],
   "source": [
    "def answer_two():\n",
    "    # YOUR CODE HERE\n",
    "    GDP_mean=answer_one()\n",
    "    return  GDP_mean[['2006', '2007', '2008', '2009', '2010', '2011', '2012', '2013', '2014', '2015']].apply(np.mean,axis=1).sort_values(ascending = False)"
   ]
  },
  {
   "cell_type": "code",
   "execution_count": 15,
   "id": "5541b371",
   "metadata": {},
   "outputs": [
    {
     "data": {
      "text/plain": [
       "Country\n",
       "United States         1.570403e+13\n",
       "China                 6.927702e+12\n",
       "Japan                 5.239642e+12\n",
       "Germany               3.523342e+12\n",
       "United Kingdom        2.792011e+12\n",
       "France                2.691337e+12\n",
       "Italy                 2.142986e+12\n",
       "Brazil                1.988889e+12\n",
       "Russian Federation    1.666746e+12\n",
       "Canada                1.616359e+12\n",
       "India                 1.602352e+12\n",
       "Spain                 1.400727e+12\n",
       "South Korea           1.221372e+12\n",
       "Australia             1.207106e+12\n",
       "Iran                  4.563261e+11\n",
       "dtype: float64"
      ]
     },
     "execution_count": 15,
     "metadata": {},
     "output_type": "execute_result"
    }
   ],
   "source": [
    "answer_two()"
   ]
  },
  {
   "cell_type": "markdown",
   "id": "6d093142",
   "metadata": {},
   "source": [
    "#### Question 3\n",
    "By how much had the GDP changed over the 10 year span for the country with the 6th largest average GDP?"
   ]
  },
  {
   "cell_type": "code",
   "execution_count": 16,
   "id": "6e1c8375",
   "metadata": {},
   "outputs": [],
   "source": [
    "def answer_three():\n",
    "    GDP_change = answer_one()\n",
    "    GDP_change[\"AvgGDP\"] = answer_two()\n",
    "    GDP_change.sort_values(\"AvgGDP\", ascending=False, inplace=True)\n",
    "    final = GDP_change.iloc[5]['2015']\n",
    "    initial = GDP_change.iloc[5]['2006']\n",
    "    return abs(final - initial)"
   ]
  },
  {
   "cell_type": "code",
   "execution_count": 17,
   "id": "bab68b48",
   "metadata": {},
   "outputs": [
    {
     "data": {
      "text/plain": [
       "118652421857.7998"
      ]
     },
     "execution_count": 17,
     "metadata": {},
     "output_type": "execute_result"
    }
   ],
   "source": [
    "answer_three()"
   ]
  },
  {
   "cell_type": "markdown",
   "id": "668c4484",
   "metadata": {},
   "source": [
    "#### Question 4\n",
    "Create a new column that is the ratio of Self-Citations to Total Citations. What is the maximum value for this new column, and what country has the highest ratio?"
   ]
  },
  {
   "cell_type": "code",
   "execution_count": 18,
   "id": "94fae096",
   "metadata": {},
   "outputs": [],
   "source": [
    "def answer_four():\n",
    "    citations = answer_one()\n",
    "    citations[\"Ratio\"] = citations[\"Self-citations\"] / citations[\"Citations\"]\n",
    "    return citations[\"Ratio\"].argmax(), citations[\"Ratio\"].max()"
   ]
  },
  {
   "cell_type": "code",
   "execution_count": 19,
   "id": "94faf4e7",
   "metadata": {},
   "outputs": [
    {
     "data": {
      "text/plain": [
       "(1, 0.689186772669207)"
      ]
     },
     "execution_count": 19,
     "metadata": {},
     "output_type": "execute_result"
    }
   ],
   "source": [
    "answer_four()"
   ]
  },
  {
   "cell_type": "markdown",
   "id": "97626505",
   "metadata": {},
   "source": [
    "#### Question 5\n",
    "Create a column that estimates the population using Energy Supply and Energy Supply per capita. What is the third most populous country according to this estimate?"
   ]
  },
  {
   "cell_type": "code",
   "execution_count": 20,
   "id": "d0f9040a",
   "metadata": {},
   "outputs": [],
   "source": [
    "def answer_five():\n",
    "    population = answer_one()\n",
    "    population[\"Population\"] = population['Energy Supply'] / population['Energy Supply per Capita']\n",
    "    final = population.sort_values(\"Population\", ascending=False)\n",
    "    return final.iloc[2].name"
   ]
  },
  {
   "cell_type": "code",
   "execution_count": 21,
   "id": "1f84d2ce",
   "metadata": {},
   "outputs": [
    {
     "data": {
      "text/plain": [
       "'United States'"
      ]
     },
     "execution_count": 21,
     "metadata": {},
     "output_type": "execute_result"
    }
   ],
   "source": [
    "answer_five()"
   ]
  },
  {
   "cell_type": "markdown",
   "id": "b743bc2e",
   "metadata": {},
   "source": [
    "#### Question 6\n",
    "Create a column that estimates the number of citable documents per person. What is the correlation between the \n",
    "number of citable documents per capita and the energy supply per capita? Use the .corr() method, (Pearson's correlation)."
   ]
  },
  {
   "cell_type": "code",
   "execution_count": 22,
   "id": "7a7b38b8",
   "metadata": {},
   "outputs": [],
   "source": [
    "def answer_six():\n",
    "    relation = answer_one()\n",
    "    relation[\"Population\"] = relation['Energy Supply'] / relation['Energy Supply per Capita']\n",
    "    relation[\"Citable docs per Capita\"] = relation[\"Citable documents\"] / relation[\"Population\"]\n",
    "    return relation[\"Citable docs per Capita\"].corr(relation['Energy Supply per Capita'])"
   ]
  },
  {
   "cell_type": "code",
   "execution_count": 23,
   "id": "02c728a3",
   "metadata": {},
   "outputs": [
    {
     "data": {
      "text/plain": [
       "0.7272331912434825"
      ]
     },
     "execution_count": 23,
     "metadata": {},
     "output_type": "execute_result"
    }
   ],
   "source": [
    "answer_six()"
   ]
  },
  {
   "cell_type": "markdown",
   "id": "a83f17c8",
   "metadata": {},
   "source": [
    "#### Question 7\n",
    "Use the following dictionary to group the Countries by Continent, then create a dateframe that displays the sample size (the number of countries in each continent bin), and the sum, mean, and std deviation for the estimated population of each country."
   ]
  },
  {
   "cell_type": "code",
   "execution_count": 24,
   "id": "f53eceae",
   "metadata": {},
   "outputs": [],
   "source": [
    "def answer_seven():\n",
    "    display = answer_one()\n",
    "    ContinentDict  = {'China':'Asia', \n",
    "                  'United States':'North America', \n",
    "                  'Japan':'Asia', \n",
    "                  'United Kingdom':'Europe', \n",
    "                  'Russian Federation':'Europe', \n",
    "                  'Canada':'North America', \n",
    "                  'Germany':'Europe', \n",
    "                  'India':'Asia',\n",
    "                  'France':'Europe', \n",
    "                  'South Korea':'Asia', \n",
    "                  'Italy':'Europe', \n",
    "                  'Spain':'Europe', \n",
    "                  'Iran':'Asia',\n",
    "                  'Australia':'Australia', \n",
    "                  'Brazil':'South America'}\n",
    "    groups = pd.DataFrame(columns = ['size', 'sum', 'mean', 'std'])\n",
    "    display['Estimate Population'] = display['Energy Supply'] / display['Energy Supply per Capita']\n",
    "    for group, frame in display.groupby(ContinentDict):\n",
    "        groups.loc[group] = [len(frame), frame['Estimate Population'].sum(),frame['Estimate Population'].mean(),frame['Estimate Population'].std()]\n",
    "    return groups"
   ]
  },
  {
   "cell_type": "code",
   "execution_count": 25,
   "id": "b0593539",
   "metadata": {},
   "outputs": [
    {
     "data": {
      "text/html": [
       "<div>\n",
       "<style scoped>\n",
       "    .dataframe tbody tr th:only-of-type {\n",
       "        vertical-align: middle;\n",
       "    }\n",
       "\n",
       "    .dataframe tbody tr th {\n",
       "        vertical-align: top;\n",
       "    }\n",
       "\n",
       "    .dataframe thead th {\n",
       "        text-align: right;\n",
       "    }\n",
       "</style>\n",
       "<table border=\"1\" class=\"dataframe\">\n",
       "  <thead>\n",
       "    <tr style=\"text-align: right;\">\n",
       "      <th></th>\n",
       "      <th>size</th>\n",
       "      <th>sum</th>\n",
       "      <th>mean</th>\n",
       "      <th>std</th>\n",
       "    </tr>\n",
       "  </thead>\n",
       "  <tbody>\n",
       "    <tr>\n",
       "      <th>Asia</th>\n",
       "      <td>5.0</td>\n",
       "      <td>2.898666e+09</td>\n",
       "      <td>5.797333e+08</td>\n",
       "      <td>6.790979e+08</td>\n",
       "    </tr>\n",
       "    <tr>\n",
       "      <th>Australia</th>\n",
       "      <td>1.0</td>\n",
       "      <td>2.331602e+07</td>\n",
       "      <td>2.331602e+07</td>\n",
       "      <td>NaN</td>\n",
       "    </tr>\n",
       "    <tr>\n",
       "      <th>Europe</th>\n",
       "      <td>6.0</td>\n",
       "      <td>4.579297e+08</td>\n",
       "      <td>7.632161e+07</td>\n",
       "      <td>3.464767e+07</td>\n",
       "    </tr>\n",
       "    <tr>\n",
       "      <th>North America</th>\n",
       "      <td>2.0</td>\n",
       "      <td>3.528552e+08</td>\n",
       "      <td>1.764276e+08</td>\n",
       "      <td>1.996696e+08</td>\n",
       "    </tr>\n",
       "    <tr>\n",
       "      <th>South America</th>\n",
       "      <td>1.0</td>\n",
       "      <td>2.059153e+08</td>\n",
       "      <td>2.059153e+08</td>\n",
       "      <td>NaN</td>\n",
       "    </tr>\n",
       "  </tbody>\n",
       "</table>\n",
       "</div>"
      ],
      "text/plain": [
       "               size           sum          mean           std\n",
       "Asia            5.0  2.898666e+09  5.797333e+08  6.790979e+08\n",
       "Australia       1.0  2.331602e+07  2.331602e+07           NaN\n",
       "Europe          6.0  4.579297e+08  7.632161e+07  3.464767e+07\n",
       "North America   2.0  3.528552e+08  1.764276e+08  1.996696e+08\n",
       "South America   1.0  2.059153e+08  2.059153e+08           NaN"
      ]
     },
     "execution_count": 25,
     "metadata": {},
     "output_type": "execute_result"
    }
   ],
   "source": [
    "answer_seven()"
   ]
  },
  {
   "cell_type": "code",
   "execution_count": null,
   "id": "5cf2a6ba",
   "metadata": {},
   "outputs": [],
   "source": []
  }
 ],
 "metadata": {
  "kernelspec": {
   "display_name": "Python 3 (ipykernel)",
   "language": "python",
   "name": "python3"
  },
  "language_info": {
   "codemirror_mode": {
    "name": "ipython",
    "version": 3
   },
   "file_extension": ".py",
   "mimetype": "text/x-python",
   "name": "python",
   "nbconvert_exporter": "python",
   "pygments_lexer": "ipython3",
   "version": "3.10.5"
  }
 },
 "nbformat": 4,
 "nbformat_minor": 5
}
